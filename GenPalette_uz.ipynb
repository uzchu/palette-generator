{
 "cells": [
  {
   "cell_type": "markdown",
   "metadata": {},
   "source": [
    "# Data extraction \n",
    "Parse the color from the color scheme json (hexadecimal to octal rgb format)"
   ]
  },
  {
   "cell_type": "code",
   "execution_count": 1,
   "metadata": {},
   "outputs": [],
   "source": [
    "import os\n",
    "import json\n",
    "from PIL import Image, ImageDraw\n",
    "import numpy as np\n",
    "import matplotlib.pyplot as plt\n",
    "\n",
    "\n",
    "#convert # FFFFFA to  255,255,250\n",
    "def huv2num(huv):\n",
    "#     print(huv)\n",
    "    try:\n",
    "        huv = huv.replace('##','#')\n",
    "        r = int('0x'+ huv[1:3],16)\n",
    "        g = int('0x'+ huv[3:5],16)\n",
    "        b = int('0x'+ huv[5:],16)\n",
    "        return (r,g,b)\n",
    "    except:\n",
    "        return None\n",
    "\n",
    "\n",
    "def parseJson(jsonPath,colors):\n",
    "    #color_sche = []\n",
    "    color_set = []\n",
    "    with open(jsonPath,'r',encoding = 'utf-8') as load_color:\n",
    "        load_dict = json.load(load_color)\n",
    "        for key, value in load_dict.items():\n",
    "            try:\n",
    "\n",
    "                for val in value:\n",
    "                    val = huv2num(val)\n",
    "                    color_set.append(val)   \n",
    "                color = [huv2num(val) for val in value if huv2num(val)]\n",
    "                if len(color) == 5:\n",
    "                    colors.append(tuple(color))\n",
    "            except OSError:\n",
    "                pass"
   ]
  },
  {
   "cell_type": "code",
   "execution_count": 1,
   "metadata": {},
   "outputs": [],
   "source": [
    "#최종\n",
    "import os\n",
    "import json\n",
    "from PIL import Image, ImageDraw\n",
    "import numpy as np\n",
    "import matplotlib.pyplot as plt\n",
    "\n",
    "\n",
    "#convert # FFFFFA to  255,255,250\n",
    "def huv2num(huv):\n",
    "#     print(huv)\n",
    "    try:\n",
    "        huv = huv.replace('##','#')\n",
    "        r = int('0x'+ huv[1:3],16)\n",
    "        g = int('0x'+ huv[3:5],16)\n",
    "        b = int('0x'+ huv[5:],16)\n",
    "        return (r,g,b)\n",
    "    except:\n",
    "        return None\n",
    "\n",
    "\n",
    "def parseJson(jsonPath,colors):\n",
    "    #color_sche = []\n",
    "    color_set = []\n",
    "    with open(jsonPath,'r',encoding = 'utf-8') as load_color:\n",
    "        load_dict = json.load(load_color)\n",
    "        for idx, values in enumerate(load_dict.items()):\n",
    "            try:\n",
    "                \n",
    "                for value in values[1:3]:\n",
    "                    for vals in value:\n",
    "                        for idx, val in enumerate(vals):\n",
    "                            if idx = 0:\n",
    "                                val = tuple(val)\n",
    "                                color_set.append(val)\n",
    "                            color = [tuple(val) for val in vals if tuple(val)]\n",
    "                            if idx = 1:\n",
    "                                val = \n",
    "                            if len(color) == 12:\n",
    "                                colors.append(tuple(color))\n",
    "\n",
    "\n",
    "            except OSError:\n",
    "                pass"
   ]
  },
  {
   "cell_type": "code",
   "execution_count": 29,
   "metadata": {
    "scrolled": true
   },
   "outputs": [
    {
     "name": "stdout",
     "output_type": "stream",
     "text": [
      "[((209, 195, 187), (186, 170, 159), (226, 217, 212), (57, 37, 29), (80, 65, 57), (114, 95, 82), (145, 138, 132), (19, 14, 12), (160, 119, 90), (184, 146, 117)), ((174, 127, 97), (157, 110, 80), (191, 146, 118), (178, 183, 178), (87, 47, 28), (57, 25, 13), (113, 83, 65), (131, 56, 27), (223, 205, 194), (148, 149, 142)), ((132, 122, 112), (114, 103, 91), (157, 141, 129), (207, 195, 187), (27, 21, 15), (244, 243, 245), (228, 217, 210), (183, 166, 153), (91, 82, 71), (65, 55, 44)), ((81, 79, 58), (68, 64, 46), (92, 93, 71), (52, 49, 33), (25, 20, 13), (158, 146, 133), (191, 176, 162), (189, 121, 74), (123, 114, 99), (149, 91, 50)), ((163, 161, 168), (148, 146, 153), (132, 128, 133), (187, 180, 182), (113, 107, 110), (91, 87, 89), (40, 39, 43), (18, 16, 20), (65, 63, 65), (206, 213, 225)), ((38, 39, 44), (20, 18, 24), (136, 133, 140), (158, 153, 161), (180, 182, 196), (115, 110, 116), (95, 84, 88), (64, 58, 63), (211, 211, 223), (163, 116, 99)), ((39, 38, 34), (58, 50, 42), (79, 69, 59), (128, 110, 97), (103, 89, 78), (169, 157, 145), (151, 131, 116), (190, 176, 163), (207, 198, 187), (243, 239, 230)), ((41, 40, 35), (60, 45, 36), (78, 56, 44), (181, 161, 159), (104, 71, 53), (197, 176, 171), (166, 144, 140), (128, 94, 76), (150, 124, 112), (247, 237, 218)), ((236, 234, 236), (246, 244, 246), (227, 223, 224), (48, 63, 87), (43, 53, 70), (37, 38, 48), (211, 207, 206), (95, 108, 132), (65, 82, 108), (177, 172, 170)), ((246, 243, 246), (98, 101, 117), (115, 119, 134), (133, 137, 150), (161, 123, 103), (136, 91, 75), (50, 49, 58), (71, 82, 104), (229, 217, 213), (196, 168, 157)), ((161, 152, 153), (16, 14, 19), (157, 192, 221), (136, 129, 131), (111, 105, 105), (208, 209, 219), (190, 171, 169), (86, 78, 78), (45, 42, 46), (182, 119, 94)), ((215, 217, 227), (200, 168, 162), (202, 204, 214), (182, 151, 144), (186, 189, 199), (145, 127, 122), (115, 97, 91), (181, 118, 93), (25, 17, 20), (80, 61, 57)), ((57, 54, 57), (42, 40, 45), (195, 169, 136), (214, 185, 149), (173, 151, 122), (124, 108, 88), (145, 129, 106), (17, 17, 22), (86, 80, 76), (232, 210, 177)), ((214, 184, 161), (235, 205, 181), (190, 162, 143), (209, 135, 110), (158, 133, 118), (175, 96, 86), (80, 48, 41), (146, 61, 57), (113, 91, 82), (21, 11, 9)), ((179, 167, 156), (194, 184, 177), (163, 146, 134), (60, 45, 35), (142, 123, 109), (87, 71, 58), (115, 97, 84), (29, 23, 18), (215, 205, 202), (140, 69, 38)), ((200, 187, 181), (182, 165, 157), (161, 140, 130), (221, 206, 202), (100, 80, 70), (26, 19, 16), (70, 44, 34), (129, 115, 106), (130, 60, 31), (168, 97, 63)), ((198, 195, 195), (219, 214, 211), (183, 180, 181), (166, 161, 163), (236, 231, 227), (125, 117, 120), (146, 141, 143), (98, 91, 94), (67, 62, 67), (35, 31, 37)), ((105, 72, 64), (115, 85, 77), (28, 24, 30), (130, 101, 93), (130, 78, 66), (83, 61, 59), (56, 45, 49), (145, 130, 128), (218, 203, 195), (178, 162, 157)), ((45, 28, 22), (26, 16, 15), (71, 45, 29), (97, 60, 38), (124, 80, 51), (81, 58, 64), (166, 122, 97), (117, 91, 99), (209, 169, 136), (229, 215, 208)), ((82, 6, 24), (93, 8, 23), (71, 4, 20), (56, 4, 17), (34, 6, 10), (47, 27, 25), (71, 42, 43), (103, 68, 58), (101, 91, 122), (154, 119, 123)), ((250, 250, 253), (88, 95, 100), (75, 75, 73), (56, 55, 54), (119, 120, 123), (173, 173, 179), (144, 145, 154), (198, 197, 205), (31, 31, 30), (227, 229, 244)), ((24, 22, 26), (197, 183, 175), (178, 159, 147), (155, 132, 117), (61, 44, 41), (136, 103, 85), (102, 72, 57), (97, 100, 93), (73, 75, 75), (219, 209, 203)), ((134, 126, 111), (120, 111, 98), (147, 141, 125), (102, 97, 85), (162, 159, 144), (83, 79, 68), (61, 57, 47), (33, 29, 23), (184, 182, 173), (215, 216, 218)), ((122, 117, 111), (172, 171, 174), (68, 62, 57), (198, 198, 199), (94, 91, 88), (145, 143, 140), (180, 126, 96), (229, 228, 229), (133, 96, 74), (34, 31, 30)), ((223, 197, 167), (236, 216, 192), (202, 197, 189), (184, 171, 154), (109, 86, 61), (156, 142, 126), (134, 113, 91), (81, 60, 37), (38, 23, 12), (252, 250, 247)), ((184, 165, 154), (168, 148, 136), (134, 107, 93), (149, 127, 115), (196, 183, 178), (117, 85, 68), (243, 222, 195), (227, 201, 175), (90, 59, 44), (36, 22, 23)), ((209, 204, 204), (197, 192, 190), (184, 176, 172), (221, 218, 219), (159, 154, 153), (133, 129, 132), (33, 33, 34), (120, 111, 108), (61, 56, 56), (93, 82, 78)), ((32, 34, 37), (19, 21, 22), (40, 44, 48), (208, 207, 209), (57, 58, 64), (135, 134, 139), (89, 90, 98), (180, 174, 171), (125, 72, 49), (202, 152, 113)), ((121, 102, 79), (138, 117, 90), (208, 216, 227), (178, 188, 198), (159, 167, 175), (102, 87, 57), (138, 140, 144), (66, 59, 36), (32, 28, 15), (197, 161, 113)), ((234, 227, 214), (220, 209, 192), (203, 191, 175), (120, 103, 84), (186, 172, 155), (168, 151, 133), (54, 32, 19), (144, 126, 106), (98, 66, 46), (174, 102, 70)), ((10, 10, 19), (28, 29, 37), (49, 54, 59), (222, 211, 196), (105, 108, 105), (73, 80, 84), (136, 134, 124), (171, 160, 138), (198, 187, 170), (241, 239, 236)), ((11, 10, 24), (196, 167, 146), (199, 190, 187), (173, 142, 122), (143, 114, 98), (224, 213, 204), (61, 40, 42), (109, 82, 74), (170, 164, 166), (192, 86, 47)), ((173, 161, 156), (234, 211, 191), (24, 16, 17), (228, 198, 172), (187, 177, 172), (213, 179, 149), (129, 111, 107), (110, 93, 91), (58, 45, 44), (187, 150, 120)), ((213, 160, 128), (198, 145, 115), (220, 174, 147), (183, 126, 96), (166, 109, 81), (231, 195, 171), (143, 91, 67), (112, 69, 52), (35, 19, 17), (76, 43, 31)), ((247, 245, 245), (177, 173, 162), (14, 17, 12), (199, 194, 187), (133, 124, 100), (80, 70, 48), (155, 150, 133), (44, 43, 33), (113, 97, 71), (224, 220, 216)), ((50, 52, 46), (247, 246, 246), (70, 71, 63), (182, 168, 135), (126, 118, 96), (96, 93, 80), (155, 142, 112), (206, 187, 151), (21, 24, 18), (224, 210, 185)), ((27, 26, 30), (46, 43, 47), (68, 64, 71), (203, 196, 191), (171, 169, 167), (145, 135, 134), (123, 98, 93), (101, 57, 49), (227, 225, 226), (204, 165, 128)), ((26, 23, 29), (41, 37, 46), (219, 225, 237), (84, 53, 50), (197, 201, 209), (71, 69, 80), (122, 80, 72), (160, 162, 169), (112, 114, 122), (165, 119, 109)), ((194, 131, 94), (210, 148, 110), (194, 160, 138), (159, 101, 68), (102, 63, 44), (129, 84, 62), (214, 180, 153), (159, 123, 106), (42, 29, 33), (231, 209, 194)), ((38, 28, 33), (51, 41, 49), (23, 14, 21), (137, 89, 65), (70, 61, 73), (91, 54, 39), (179, 124, 96), (98, 88, 102), (142, 131, 143), (218, 195, 193)), ((227, 217, 201), (213, 200, 181), (241, 234, 220), (20, 20, 28), (195, 181, 162), (146, 136, 124), (171, 158, 142), (89, 77, 69), (118, 109, 101), (53, 48, 50)), ((19, 16, 23), (51, 37, 37), (109, 58, 42), (158, 93, 62), (239, 231, 218), (68, 66, 70), (228, 195, 162), (192, 129, 87), (108, 104, 104), (157, 152, 148)), ((235, 230, 217), (212, 208, 197), (187, 183, 174), (56, 44, 38), (81, 71, 66), (138, 129, 122), (29, 19, 14), (113, 103, 95), (164, 157, 149), (239, 196, 151)), ((226, 221, 211), (189, 182, 172), (174, 168, 156), (239, 235, 230), (208, 201, 192), (157, 147, 132), (123, 92, 68), (143, 121, 99), (87, 68, 49), (30, 25, 19)), ((8, 8, 10), (19, 19, 18), (41, 38, 37), (77, 46, 33), (174, 168, 156), (132, 92, 73), (108, 65, 46), (212, 206, 194), (70, 68, 66), (148, 132, 116)), ((141, 135, 140), (159, 157, 165), (186, 195, 209), (120, 114, 118), (42, 31, 30), (94, 88, 93), (71, 58, 58), (229, 223, 227), (249, 243, 192), (244, 217, 148)), ((116, 76, 69), (88, 60, 57), (147, 92, 81), (61, 40, 39), (178, 112, 98), (197, 141, 122), (33, 21, 22), (125, 116, 123), (166, 162, 180), (227, 209, 184)), ((208, 208, 205), (212, 212, 211), (173, 167, 160), (184, 179, 173), (162, 156, 149), (200, 199, 196), (144, 138, 132), (121, 113, 106), (90, 71, 64), (33, 23, 21)), ((210, 207, 204), (159, 49, 26), (137, 36, 22), (184, 129, 100), (107, 24, 21), (180, 66, 35), (163, 111, 87), (66, 9, 13), (191, 169, 157), (134, 75, 58)), ((174, 164, 159), (155, 144, 139), (195, 184, 178), (132, 123, 120), (242, 240, 233), (222, 210, 199), (109, 98, 94), (42, 32, 27), (79, 67, 63), (182, 208, 235)), ((156, 147, 145), (24, 18, 13), (184, 170, 160), (133, 122, 119), (192, 199, 214), (212, 224, 236), (210, 195, 182), (166, 171, 186), (64, 52, 45), (101, 86, 80)), ((196, 195, 194), (180, 180, 179), (216, 212, 205), (138, 139, 139), (160, 160, 160), (231, 230, 225), (116, 118, 118), (44, 46, 48), (87, 86, 83), (15, 15, 17)), ((148, 152, 161), (126, 130, 140), (169, 173, 182), (103, 107, 117), (77, 80, 89), (47, 50, 61), (189, 196, 208), (19, 19, 28), (233, 230, 237), (231, 182, 171)), ((203, 216, 227), (212, 225, 236), (229, 229, 227), (182, 198, 213), (179, 185, 192), (208, 207, 202), (199, 189, 173), (173, 163, 147), (145, 116, 94), (64, 40, 31)), ((47, 28, 28), (71, 46, 41), (24, 12, 16), (106, 69, 57), (159, 95, 74), (204, 195, 185), (169, 132, 113), (183, 164, 150), (126, 103, 89), (222, 222, 223)), ((106, 102, 99), (90, 87, 87), (120, 117, 116), (167, 166, 163), (142, 138, 134), (187, 183, 177), (213, 208, 193), (61, 54, 46), (28, 22, 20), (247, 247, 247)), ((91, 85, 83), (149, 150, 157), (108, 101, 94), (164, 164, 170), (43, 31, 31), (18, 8, 11), (131, 131, 136), (68, 57, 54), (200, 192, 191), (163, 123, 100)), ((169, 160, 152), (116, 35, 19), (25, 23, 23), (136, 128, 119), (216, 190, 159), (93, 93, 90), (158, 57, 38), (53, 54, 53), (220, 219, 215), (197, 116, 79)), ((14, 13, 15), (33, 30, 28), (181, 112, 66), (45, 48, 50), (144, 89, 54), (88, 55, 32), (92, 92, 90), (200, 159, 112), (155, 153, 148), (218, 208, 187)), ((188, 187, 183), (169, 166, 159), (209, 209, 208), (149, 143, 133), (123, 115, 101), (94, 87, 73), (63, 56, 45), (28, 24, 18), (248, 246, 237), (241, 222, 176)), ((6, 5, 10), (18, 16, 23), (117, 80, 56), (137, 96, 71), (176, 174, 169), (90, 58, 43), (208, 199, 187), (57, 34, 26), (164, 112, 90), (207, 154, 125)), ((17, 15, 21), (39, 34, 35), (241, 239, 244), (65, 54, 52), (220, 216, 216), (94, 77, 72), (197, 191, 189), (120, 103, 96), (174, 164, 158), (151, 135, 123)), ((244, 238, 236), (29, 19, 23), (225, 212, 204), (67, 46, 45), (109, 75, 70), (233, 187, 157), (163, 94, 76), (188, 169, 162), (147, 123, 118), (201, 138, 111)), ((169, 162, 155), (183, 179, 173), (119, 124, 123), (146, 145, 141), (200, 198, 196), (167, 147, 131), (234, 233, 231), (145, 127, 113), (108, 98, 90), (82, 72, 68)), ((22, 18, 23), (45, 34, 37), (194, 135, 101), (139, 94, 84), (145, 136, 132), (58, 62, 76), (204, 157, 132), (99, 49, 50), (201, 208, 222), (175, 182, 194)), ((166, 160, 151), (201, 213, 211), (16, 35, 42), (181, 187, 183), (137, 134, 128), (17, 57, 64), (231, 232, 227), (104, 100, 97), (63, 66, 70), (48, 108, 115)), ((204, 208, 203), (149, 143, 133), (220, 227, 224), (128, 125, 117), (11, 54, 60), (172, 166, 154), (188, 190, 182), (104, 98, 92), (75, 72, 70), (44, 42, 43)), ((230, 230, 234), (241, 240, 246), (189, 184, 175), (181, 172, 160), (217, 216, 219), (200, 198, 195), (167, 153, 139), (134, 122, 108), (84, 77, 68), (45, 43, 41)), ((29, 29, 32), (188, 182, 179), (45, 46, 53), (174, 160, 151), (207, 206, 212), (230, 232, 245), (140, 84, 69), (165, 119, 102), (68, 71, 82), (110, 114, 124)), ((226, 202, 169), (212, 188, 153), (198, 172, 137), (130, 87, 55), (147, 105, 73), (235, 219, 187), (112, 70, 40), (171, 147, 119), (24, 7, 9), (67, 38, 26)), ((147, 96, 65), (70, 73, 61), (91, 92, 78), (51, 53, 39), (110, 64, 40), (113, 112, 98), (202, 170, 131), (28, 22, 18), (142, 139, 129), (176, 127, 94)), ((29, 28, 27), (46, 46, 44), (69, 75, 72), (93, 107, 104), (139, 99, 76), (159, 130, 110), (119, 141, 145), (108, 68, 50), (190, 166, 153), (184, 195, 203)), ((39, 36, 35), (51, 61, 66), (144, 163, 173), (116, 132, 139), (173, 191, 203), (84, 98, 102), (93, 56, 42), (140, 95, 74), (199, 145, 118), (238, 200, 185)), ((220, 216, 215), (200, 194, 191), (182, 173, 169), (127, 109, 98), (165, 154, 148), (239, 239, 241), (105, 87, 77), (146, 131, 123), (75, 58, 49), (24, 16, 12)), ((218, 211, 208), (201, 190, 187), (187, 172, 167), (170, 152, 145), (154, 135, 126), (236, 231, 230), (111, 83, 71), (135, 112, 101), (86, 59, 48), (41, 25, 19)), ((159, 160, 165), (121, 118, 118), (144, 140, 139), (253, 252, 250), (180, 181, 186), (101, 97, 94), (201, 168, 149), (74, 70, 66), (228, 217, 201), (42, 38, 36)), ((43, 31, 29), (115, 109, 109), (104, 94, 89), (134, 126, 124), (22, 15, 16), (87, 73, 66), (184, 170, 161), (67, 50, 45), (160, 148, 142), (215, 199, 188)), ((204, 201, 196), (187, 183, 178), (167, 161, 156), (226, 222, 216), (147, 135, 123), (30, 24, 15), (85, 69, 49), (228, 178, 41), (155, 108, 42), (224, 185, 133)), ((21, 18, 12), (165, 159, 154), (73, 45, 29), (141, 135, 129), (236, 187, 43), (139, 89, 22), (196, 144, 37), (169, 125, 85), (97, 84, 76), (226, 188, 127)), ((203, 196, 193), (215, 210, 207), (192, 184, 180), (226, 224, 222), (240, 241, 241), (175, 164, 158), (152, 138, 129), (93, 67, 53), (37, 34, 28), (134, 107, 90)), ((114, 70, 47), (133, 89, 63), (94, 57, 37), (219, 214, 211), (154, 110, 84), (66, 37, 22), (34, 14, 7), (106, 96, 89), (162, 140, 128), (184, 172, 166)), ((13, 12, 7), (79, 70, 56), (97, 86, 69), (64, 55, 35), (39, 33, 22), (125, 111, 83), (195, 182, 166), (167, 162, 151), (148, 136, 112), (221, 216, 209)), ((67, 57, 50), (53, 45, 35), (81, 69, 65), (42, 31, 22), (76, 43, 24), (92, 57, 37), (16, 10, 6), (98, 85, 84), (108, 76, 54), (131, 97, 77)), ((132, 140, 153), (153, 157, 167), (206, 192, 175), (223, 208, 190), (186, 174, 159), (117, 118, 119), (251, 245, 230), (167, 155, 117), (89, 91, 78), (43, 47, 40)), ((26, 26, 29), (14, 15, 19), (128, 96, 76), (50, 42, 39), (78, 58, 48), (105, 77, 61), (149, 116, 95), (174, 137, 113), (199, 161, 137), (228, 195, 167)), ((85, 65, 65), (77, 53, 52), (99, 76, 75), (41, 30, 33), (60, 42, 43), (115, 91, 87), (166, 127, 108), (181, 146, 125), (139, 106, 94), (109, 66, 55)), ((32, 26, 31), (96, 74, 72), (139, 118, 110), (117, 95, 91), (158, 137, 126), (238, 232, 229), (208, 196, 187), (224, 216, 210), (74, 52, 52), (187, 171, 161)), ((76, 59, 66), (129, 114, 112), (167, 165, 160), (150, 144, 140), (100, 85, 90), (189, 186, 177), (216, 215, 204), (40, 21, 33), (140, 178, 216), (107, 135, 173)), ((96, 67, 66), (165, 163, 158), (145, 185, 224), (124, 158, 197), (59, 26, 34), (142, 95, 85), (105, 131, 168), (79, 96, 131), (208, 204, 198), (44, 52, 87)), ((160, 145, 143), (185, 174, 174), (172, 159, 159), (226, 220, 226), (140, 125, 127), (33, 26, 30), (205, 193, 197), (113, 99, 101), (87, 55, 46), (82, 74, 84)), ((165, 145, 137), (182, 168, 165), (202, 191, 190), (81, 47, 37), (120, 72, 57), (226, 222, 229), (147, 114, 102), (18, 15, 24), (38, 40, 57), (95, 86, 91)), ((159, 157, 161), (84, 81, 89), (173, 172, 176), (115, 109, 111), (100, 95, 100), (140, 141, 145), (126, 125, 128), (69, 66, 76), (45, 44, 56), (162, 136, 122)), ((178, 196, 218), (24, 29, 49), (174, 170, 175), (115, 107, 112), (209, 220, 236), (136, 164, 192), (146, 146, 152), (96, 131, 163), (60, 65, 86), (186, 125, 112)), ((182, 213, 244), (210, 233, 249), (101, 98, 101), (120, 119, 123), (76, 75, 79), (169, 192, 216), (135, 142, 154), (162, 168, 177), (41, 50, 54), (12, 15, 27)), ((137, 123, 131), (122, 109, 118), (104, 91, 100), (153, 138, 143), (88, 73, 82), (68, 50, 59), (46, 28, 38), (15, 8, 22), (180, 158, 154), (175, 188, 210)), ((209, 202, 198), (179, 175, 177), (150, 146, 148), (71, 48, 38), (125, 116, 113), (38, 28, 25), (235, 232, 230), (85, 84, 86), (126, 65, 39), (200, 152, 120)), ((21, 19, 24), (101, 56, 42), (136, 69, 54), (40, 35, 40), (177, 172, 172), (201, 196, 195), (151, 145, 145), (236, 227, 208), (174, 96, 75), (119, 112, 110)), ((226, 225, 226), (243, 242, 244), (125, 117, 116), (206, 206, 208), (100, 94, 94), (143, 140, 141), (72, 68, 69), (186, 185, 185), (165, 163, 163), (44, 40, 42)), ((15, 14, 20), (30, 28, 33), (51, 48, 51), (68, 66, 70), (197, 197, 196), (108, 90, 83), (235, 235, 237), (128, 124, 124), (162, 160, 160), (179, 127, 99)), ((35, 31, 33), (151, 143, 135), (129, 119, 112), (173, 166, 161), (98, 89, 86), (65, 59, 59), (203, 198, 193), (110, 62, 28), (204, 160, 85), (180, 116, 48)), ((192, 132, 80), (41, 29, 25), (172, 113, 67), (204, 153, 106), (176, 171, 167), (199, 195, 194), (70, 53, 47), (143, 133, 125), (124, 73, 49), (101, 93, 88)), ((199, 204, 207), (190, 192, 192), (211, 217, 220), (177, 177, 175), (143, 135, 127), (158, 155, 150), (121, 108, 97), (41, 39, 39), (20, 20, 20), (86, 73, 64)), ((23, 23, 24), (44, 40, 38), (67, 52, 39), (81, 71, 57), (95, 91, 78), (200, 205, 208), (112, 114, 104), (141, 141, 133), (140, 105, 86), (167, 175, 174)), ((138, 130, 124), (119, 113, 107), (101, 93, 85), (156, 147, 142), (179, 173, 169), (76, 67, 62), (206, 203, 200), (237, 235, 236), (42, 35, 34), (228, 189, 138)), ((29, 22, 25), (72, 57, 54), (50, 37, 38), (103, 77, 67), (128, 59, 44), (99, 45, 30), (129, 101, 88), (145, 126, 116), (184, 174, 170), (195, 78, 70)), ((133, 145, 163), (171, 164, 156), (120, 128, 140), (189, 189, 187), (150, 165, 186), (56, 55, 61), (33, 32, 38), (100, 105, 115), (77, 79, 87), (222, 220, 211)), ((100, 21, 44), (129, 27, 57), (134, 138, 151), (60, 23, 30), (168, 161, 170), (192, 189, 204), (164, 45, 79), (213, 215, 232), (85, 66, 72), (124, 106, 111)), ((216, 229, 238), (200, 212, 219), (234, 220, 201), (213, 194, 170), (182, 187, 186), (179, 165, 146), (33, 27, 27), (150, 132, 113), (112, 94, 81), (76, 60, 52)), ((215, 228, 236), (15, 14, 16), (191, 196, 200), (159, 161, 159), (127, 124, 117), (51, 43, 42), (88, 87, 83), (185, 103, 48), (129, 75, 48), (219, 145, 85)), ((215, 212, 205), (205, 200, 192), (193, 185, 175), (228, 226, 220), (133, 122, 114), (176, 167, 158), (153, 143, 136), (68, 57, 53), (107, 95, 86), (35, 24, 21)), ((72, 31, 27), (167, 143, 125), (162, 112, 89), (225, 218, 207), (45, 16, 19), (137, 90, 71), (178, 169, 167), (198, 194, 193), (104, 66, 51), (211, 214, 227)), ((10, 13, 9), (188, 180, 162), (111, 101, 75), (77, 76, 52), (204, 201, 197), (41, 49, 30), (132, 126, 108), (229, 231, 240), (159, 154, 139), (176, 141, 88)), ((157, 109, 93), (131, 83, 69), (153, 145, 144), (186, 133, 114), (216, 160, 138), (13, 10, 10), (99, 58, 44), (58, 31, 22), (214, 190, 180), (51, 63, 77)), ((67, 68, 63), (48, 44, 40), (129, 127, 121), (163, 164, 162), (144, 143, 139), (75, 89, 98), (30, 25, 22), (97, 116, 127), (114, 99, 87), (219, 222, 225)), ((147, 167, 173), (103, 116, 118), (124, 144, 149), (163, 160, 152), (79, 95, 98), (139, 135, 127), (56, 65, 68), (46, 35, 29), (102, 70, 53), (208, 206, 201)), ((23, 22, 26), (125, 110, 96), (138, 135, 129), (89, 83, 78), (56, 47, 45), (173, 132, 102), (164, 166, 168), (202, 203, 199), (203, 165, 126), (236, 238, 233)), ((10, 12, 19), (19, 46, 61), (135, 93, 74), (102, 66, 50), (211, 149, 121), (173, 119, 96), (64, 39, 28), (38, 85, 104), (239, 185, 159), (149, 143, 137)), ((223, 219, 217), (212, 207, 204), (196, 192, 189), (174, 169, 167), (241, 238, 239), (142, 136, 136), (99, 93, 97), (50, 44, 53), (123, 38, 49), (198, 44, 55)), ((47, 36, 47), (160, 42, 51), (82, 39, 47), (193, 44, 54), (123, 41, 50), (95, 67, 74), (227, 220, 220), (136, 95, 95), (212, 191, 183), (182, 142, 132)), ((49, 48, 45), (98, 95, 84), (144, 140, 129), (208, 198, 189), (77, 69, 61), (179, 170, 162), (122, 116, 103), (246, 230, 218), (187, 219, 226), (21, 22, 22)), ((14, 13, 13), (34, 32, 35), (54, 53, 58), (142, 132, 137), (104, 108, 117), (78, 81, 88), (105, 71, 55), (175, 159, 157), (200, 189, 194), (230, 226, 236)), ((157, 154, 152), (141, 140, 137), (128, 169, 195), (150, 188, 219), (130, 156, 174), (116, 173, 218), (69, 126, 192), (98, 151, 205), (187, 209, 235), (123, 117, 114)), ((113, 160, 201), (134, 84, 63), (133, 176, 209), (149, 151, 155), (111, 64, 44), (98, 141, 180), (134, 131, 134), (68, 102, 142), (32, 58, 92), (71, 31, 15)), ((18, 20, 29), (47, 46, 51), (80, 77, 74), (121, 101, 78), (200, 199, 194), (160, 135, 108), (195, 173, 149), (236, 245, 247), (141, 150, 159), (105, 110, 117)), ((33, 32, 44), (8, 8, 20), (54, 52, 65), (244, 169, 130), (220, 143, 103), (152, 160, 177), (82, 80, 92), (121, 124, 137), (145, 91, 71), (220, 221, 227)), ((187, 165, 151), (168, 149, 138), (202, 179, 163), (142, 129, 122), (251, 249, 247), (200, 159, 130), (117, 106, 99), (90, 74, 66), (222, 204, 188), (40, 30, 27)), ((183, 157, 144), (115, 85, 73), (133, 102, 89), (169, 139, 125), (151, 121, 107), (195, 175, 163), (97, 67, 55), (72, 47, 36), (40, 21, 15), (231, 207, 193)), ((216, 190, 168), (192, 182, 169), (199, 195, 185), (198, 174, 153), (168, 157, 143), (233, 207, 185), (149, 84, 19), (183, 115, 56), (118, 103, 95), (47, 33, 23)), ((146, 118, 98), (24, 18, 16), (49, 31, 21), (172, 167, 156), (132, 99, 77), (169, 137, 116), (77, 51, 35), (202, 196, 186), (108, 76, 56), (210, 161, 124)), ((122, 103, 91), (102, 83, 72), (21, 17, 16), (44, 38, 35), (70, 59, 53), (149, 125, 109), (203, 160, 127), (216, 195, 182), (164, 153, 149), (245, 242, 242)), ((24, 19, 17), (186, 151, 124), (101, 74, 55), (72, 49, 35), (207, 174, 149), (162, 130, 103), (193, 116, 81), (131, 103, 81), (159, 87, 53), (228, 207, 191)), ((38, 37, 37), (65, 63, 62), (150, 154, 155), (95, 97, 95), (125, 128, 127), (185, 182, 176), (158, 116, 88), (184, 148, 118), (121, 80, 57), (218, 219, 217)), ((37, 38, 39), (52, 61, 62), (66, 88, 92), (85, 115, 118), (109, 145, 148), (216, 166, 141), (166, 121, 98), (110, 75, 58), (145, 173, 176), (231, 200, 185)), ((153, 172, 188), (168, 193, 206), (139, 153, 167), (226, 243, 247), (192, 211, 223), (120, 131, 141), (236, 215, 199), (95, 93, 96), (54, 60, 67), (13, 17, 26)), ((4, 6, 14), (177, 203, 216), (12, 39, 51), (118, 91, 81), (42, 30, 28), (75, 60, 55), (27, 74, 89), (118, 140, 150), (73, 109, 123), (207, 158, 145)), ((236, 250, 232), (58, 27, 43), (77, 53, 66), (103, 78, 81), (198, 198, 170), (173, 172, 155), (125, 107, 103), (148, 136, 126), (200, 220, 211), (233, 231, 181)), ((209, 194, 164), (111, 74, 74), (168, 139, 120), (192, 168, 141), (132, 93, 85), (155, 115, 98), (228, 219, 186), (85, 55, 64), (61, 32, 49), (109, 149, 171)), ((97, 83, 65), (64, 49, 33), (121, 98, 76), (81, 65, 49), (144, 115, 91), (171, 137, 108), (198, 165, 134), (31, 24, 15), (233, 202, 170), (228, 160, 99)), ((49, 40, 31), (34, 25, 19), (16, 10, 7), (65, 56, 44), (175, 117, 74), (141, 89, 47), (213, 145, 90), (95, 55, 25), (100, 80, 61), (244, 173, 120)), ((233, 228, 226), (239, 225, 208), (199, 186, 178), (211, 205, 204), (174, 167, 167), (114, 108, 115), (34, 24, 26), (145, 138, 139), (83, 69, 69), (187, 142, 125)), ((35, 24, 27), (47, 33, 35), (26, 16, 18), (66, 44, 42), (88, 63, 59), (115, 93, 87), (143, 124, 118), (202, 193, 187), (176, 160, 152), (235, 229, 225))]\n"
     ]
    }
   ],
   "source": [
    "style  =  os.listdir('./json/')\n",
    "colors = []\n",
    "for name in style :\n",
    "    jsonPath  =  os.path.join('./json/', name)\n",
    "    if jsonPath.endswith('json'):\n",
    "        parseJson(jsonPath,colors)\n",
    "print(colors)"
   ]
  },
  {
   "cell_type": "code",
   "execution_count": 2,
   "metadata": {},
   "outputs": [
    {
     "name": "stdout",
     "output_type": "stream",
     "text": [
      "Directory is exist!\n"
     ]
    }
   ],
   "source": [
    "style  =  os.listdir('./json/')\n",
    "colors = []\n",
    "for name in style :\n",
    "    jsonPath  =  os.path.join('./json/', name)\n",
    "    if jsonPath.endswith('json'):\n",
    "        parseJson(jsonPath,colors)\n",
    "        \n",
    "        \n",
    "        dir_A = os.path.join('./json_palettes',name.split('.')[0])\n",
    "        if os.path.exists(dir_A):\n",
    "            print(\"Directory is exist!\")\n",
    "        else:    \n",
    "            os.makedirs(dir_A)\n",
    "\n",
    "            for  i , color  in  enumerate (colors):\n",
    "                im=Image.new('RGB',(1000,1),(0,0,0)) #바탕생성 Image.new(mode,size,color)\n",
    "                draw=ImageDraw.Draw(im)\n",
    "                batch = int(1000 / 10)\n",
    "                for j, c in enumerate(color):\n",
    "                    if  j != 9 :\n",
    "                        draw.rectangle((j*batch,0,(j+1)*batch,1),fill=c)\n",
    "                    else:\n",
    "                        draw.rectangle((j*batch,0,1000,1),fill=c)\n",
    "                    im.save(dir_A + f'/{i}.png')"
   ]
  },
  {
   "cell_type": "markdown",
   "metadata": {},
   "source": [
    "# Data visualization"
   ]
  },
  {
   "cell_type": "code",
   "execution_count": 4,
   "metadata": {},
   "outputs": [
    {
     "data": {
      "image/png": "[encoded data removed]",
      "text/plain": [
       "<Figure size 432x288 with 1 Axes>"
      ]
     },
     "metadata": {
      "needs_background": "light"
     },
     "output_type": "display_data"
    },
    {
     "data": {
      "image/png": "[encoded data removed]",
      "text/plain": [
       "<Figure size 432x288 with 1 Axes>"
      ]
     },
     "metadata": {
      "needs_background": "light"
     },
     "output_type": "display_data"
    },
    {
     "data": {
      "text/plain": [
       "(1000, 1)"
      ]
     },
     "execution_count": 4,
     "metadata": {},
     "output_type": "execute_result"
    }
   ],
   "source": [
    "img=Image.open('./json_palettes/fashion4perfection/10.png')\n",
    "# img = Image.fromarray(img)\n",
    "\n",
    "new=img.resize(size=(256,1))\n",
    "new1 = new.resize(size=(256,30))\n",
    "\n",
    "plt.imshow(np.array(new))\n",
    "plt.show()\n",
    "plt.imshow(np.array(new1))\n",
    "plt.show()\n",
    "\n",
    "img.size"
   ]
  },
  {
   "cell_type": "markdown",
   "metadata": {},
   "source": [
    "# Models built \n",
    "Pix2pix's network structure is used for training. Some differences are in the input size. I use 256 1 instead of 256 256 in the image . The input becomes smaller, so I increased the number of channels. By default, the first layer uses 128. Channels."
   ]
  },
  {
   "cell_type": "code",
   "execution_count": 5,
   "metadata": {},
   "outputs": [
    {
     "name": "stderr",
     "output_type": "stream",
     "text": [
      "Using TensorFlow backend.\n",
      "/home/lab13/.local/lib/python3.6/site-packages/tensorflow/python/framework/dtypes.py:516: FutureWarning: Passing (type, 1) or '1type' as a synonym of type is deprecated; in a future version of numpy, it will be understood as (type, (1,)) / '(1,)type'.\n",
      "  _np_qint8 = np.dtype([(\"qint8\", np.int8, 1)])\n",
      "/home/lab13/.local/lib/python3.6/site-packages/tensorflow/python/framework/dtypes.py:517: FutureWarning: Passing (type, 1) or '1type' as a synonym of type is deprecated; in a future version of numpy, it will be understood as (type, (1,)) / '(1,)type'.\n",
      "  _np_quint8 = np.dtype([(\"quint8\", np.uint8, 1)])\n",
      "/home/lab13/.local/lib/python3.6/site-packages/tensorflow/python/framework/dtypes.py:518: FutureWarning: Passing (type, 1) or '1type' as a synonym of type is deprecated; in a future version of numpy, it will be understood as (type, (1,)) / '(1,)type'.\n",
      "  _np_qint16 = np.dtype([(\"qint16\", np.int16, 1)])\n",
      "/home/lab13/.local/lib/python3.6/site-packages/tensorflow/python/framework/dtypes.py:519: FutureWarning: Passing (type, 1) or '1type' as a synonym of type is deprecated; in a future version of numpy, it will be understood as (type, (1,)) / '(1,)type'.\n",
      "  _np_quint16 = np.dtype([(\"quint16\", np.uint16, 1)])\n",
      "/home/lab13/.local/lib/python3.6/site-packages/tensorflow/python/framework/dtypes.py:520: FutureWarning: Passing (type, 1) or '1type' as a synonym of type is deprecated; in a future version of numpy, it will be understood as (type, (1,)) / '(1,)type'.\n",
      "  _np_qint32 = np.dtype([(\"qint32\", np.int32, 1)])\n",
      "/home/lab13/.local/lib/python3.6/site-packages/tensorflow/python/framework/dtypes.py:525: FutureWarning: Passing (type, 1) or '1type' as a synonym of type is deprecated; in a future version of numpy, it will be understood as (type, (1,)) / '(1,)type'.\n",
      "  np_resource = np.dtype([(\"resource\", np.ubyte, 1)])\n",
      "/home/lab13/.local/lib/python3.6/site-packages/tensorboard/compat/tensorflow_stub/dtypes.py:541: FutureWarning: Passing (type, 1) or '1type' as a synonym of type is deprecated; in a future version of numpy, it will be understood as (type, (1,)) / '(1,)type'.\n",
      "  _np_qint8 = np.dtype([(\"qint8\", np.int8, 1)])\n",
      "/home/lab13/.local/lib/python3.6/site-packages/tensorboard/compat/tensorflow_stub/dtypes.py:542: FutureWarning: Passing (type, 1) or '1type' as a synonym of type is deprecated; in a future version of numpy, it will be understood as (type, (1,)) / '(1,)type'.\n",
      "  _np_quint8 = np.dtype([(\"quint8\", np.uint8, 1)])\n",
      "/home/lab13/.local/lib/python3.6/site-packages/tensorboard/compat/tensorflow_stub/dtypes.py:543: FutureWarning: Passing (type, 1) or '1type' as a synonym of type is deprecated; in a future version of numpy, it will be understood as (type, (1,)) / '(1,)type'.\n",
      "  _np_qint16 = np.dtype([(\"qint16\", np.int16, 1)])\n",
      "/home/lab13/.local/lib/python3.6/site-packages/tensorboard/compat/tensorflow_stub/dtypes.py:544: FutureWarning: Passing (type, 1) or '1type' as a synonym of type is deprecated; in a future version of numpy, it will be understood as (type, (1,)) / '(1,)type'.\n",
      "  _np_quint16 = np.dtype([(\"quint16\", np.uint16, 1)])\n",
      "/home/lab13/.local/lib/python3.6/site-packages/tensorboard/compat/tensorflow_stub/dtypes.py:545: FutureWarning: Passing (type, 1) or '1type' as a synonym of type is deprecated; in a future version of numpy, it will be understood as (type, (1,)) / '(1,)type'.\n",
      "  _np_qint32 = np.dtype([(\"qint32\", np.int32, 1)])\n",
      "/home/lab13/.local/lib/python3.6/site-packages/tensorboard/compat/tensorflow_stub/dtypes.py:550: FutureWarning: Passing (type, 1) or '1type' as a synonym of type is deprecated; in a future version of numpy, it will be understood as (type, (1,)) / '(1,)type'.\n",
      "  np_resource = np.dtype([(\"resource\", np.ubyte, 1)])\n"
     ]
    },
    {
     "data": {
      "text/plain": [
       "<tensorflow.python.client.session.Session at 0x7f241e467c18>"
      ]
     },
     "execution_count": 5,
     "metadata": {},
     "output_type": "execute_result"
    }
   ],
   "source": [
    "import keras\n",
    "from keras.models import Sequential, Model\n",
    "from keras.layers import Conv2D, ZeroPadding2D, BatchNormalization, Input, Dropout\n",
    "from keras.layers import Conv2DTranspose, Reshape, Activation, Cropping2D, Flatten\n",
    "from keras.layers import Concatenate\n",
    "from keras.layers.advanced_activations import LeakyReLU\n",
    "from keras.activations import relu\n",
    "from keras.initializers import RandomNormal\n",
    "import keras.backend as K\n",
    "from keras.optimizers import RMSprop, SGD, Adam\n",
    "from keras.utils.vis_utils import model_to_dot\n",
    "from keras.models import load_model\n",
    "\n",
    "import random\n",
    "import tensorflow as tf\n",
    "\n",
    "from IPython.display import SVG\n",
    "from IPython.display import clear_output\n",
    "\n",
    "# os.environ[\"CUDA_VISIBLE_DEVICES\"] = \"0\"\n",
    "gpu_options = tf.GPUOptions(allow_growth=True)\n",
    "tf.Session(config=tf.ConfigProto(gpu_options=gpu_options))"
   ]
  },
  {
   "cell_type": "code",
   "execution_count": 6,
   "metadata": {},
   "outputs": [
    {
     "name": "stdout",
     "output_type": "stream",
     "text": [
      "1.14.0\n",
      "2.2.4\n"
     ]
    }
   ],
   "source": [
    "print(tf.__version__)\n",
    "print(keras.__version__)"
   ]
  },
  {
   "cell_type": "code",
   "execution_count": 7,
   "metadata": {},
   "outputs": [],
   "source": [
    "#Weights initializations\n",
    "#bias are initailized as 0\n",
    "\n",
    "def __conv_init(a):\n",
    "    print(\"conv_init\", a)\n",
    "    k = RandomNormal(0, 0.02)(a) # for convolution kernel\n",
    "    k.conv_weight = True    \n",
    "    return k"
   ]
  },
  {
   "cell_type": "code",
   "execution_count": 8,
   "metadata": {},
   "outputs": [],
   "source": [
    "# Basic discriminator\n",
    "conv_init = RandomNormal(0, 0.02)\n",
    "gamma_init = RandomNormal(1., 0.02) # for batch normalization\n",
    "\n",
    "\n",
    "def conv2d(f, *a, **k):\n",
    "    return Conv2D(f, kernel_initializer = conv_init, *a, **k)\n",
    "def batchnorm():\n",
    "    return BatchNormalization(momentum=0.9, axis=-1, epsilon=1.01e-5,\n",
    "                                   gamma_initializer = gamma_init)\n",
    "def BASIC_D(nc_in, nc_out, ndf, max_layers=3):\n",
    "    \"\"\"DCGAN_D(nc, ndf, max_layers=3)\n",
    "       nc: channels\n",
    "       ndf: filters of the first layer\n",
    "       max_layers: max hidden layers\n",
    "    \"\"\"    \n",
    "\n",
    "    input_a, input_b = Input(shape=(None, None, nc_in)), Input(shape=(None, None, nc_out))\n",
    "    _ = Concatenate(axis=-1)([input_a, input_b])\n",
    "    _ = conv2d(ndf, kernel_size=(1,4), strides=(1,2), padding=\"same\", name = 'First') (_)\n",
    "    _ = LeakyReLU(alpha=0.2)(_)\n",
    "    \n",
    "    for layer in range(1, max_layers):        \n",
    "        out_feat = ndf * min(2**layer, 8)\n",
    "        _ = conv2d(out_feat, kernel_size=(1,4), strides=(1,2), padding=\"same\", \n",
    "                   use_bias=False, name = f'pyramid.{layer}'\n",
    "                        ) (_)\n",
    "        _ = batchnorm()(_, training=1)        \n",
    "        _ = LeakyReLU(alpha=0.2)(_)\n",
    "    \n",
    "    out_feat = ndf*min(2**max_layers, 8)\n",
    "    _ = ZeroPadding2D((0,1))(_)\n",
    "    _ = conv2d(out_feat, kernel_size=(1,4),  use_bias=False, name = 'pyramid_last') (_)\n",
    "    _ = batchnorm()(_, training=1)\n",
    "    _ = LeakyReLU(alpha=0.2)(_)\n",
    "    \n",
    "    # final layer\n",
    "    _ = ZeroPadding2D((0,1))(_)\n",
    "    _ = conv2d(1, kernel_size=(1,4), name = 'final'.format(out_feat, 1), \n",
    "               activation = \"sigmoid\") (_)    \n",
    "    return Model(inputs=[input_a, input_b], outputs=_)"
   ]
  },
  {
   "cell_type": "code",
   "execution_count": 9,
   "metadata": {},
   "outputs": [],
   "source": [
    "def UNET_G(isize, nc_in=3, nc_out=3, ngf=128, fixed_input_size=True):    \n",
    "    max_nf = 8*ngf    \n",
    "    def block(x, s, nf_in, use_batchnorm=True, nf_out=None, nf_next=None):\n",
    "        # print(\"block\",x,s,nf_in, use_batchnorm, nf_out, nf_next)\n",
    "        assert s>=2 and s%2==0\n",
    "        if nf_next is None:\n",
    "            nf_next = min(nf_in*2, max_nf)\n",
    "        if nf_out is None:\n",
    "            nf_out = nf_in\n",
    "        x = conv2d(nf_next, kernel_size=(1,4), strides=(1,2), use_bias=(not (use_batchnorm and s>2)),\n",
    "                   padding=\"same\", name = f'conv_{s}') (x)\n",
    "        if s>2:\n",
    "            if use_batchnorm:\n",
    "                x = batchnorm()(x, training=1)\n",
    "            x2 = LeakyReLU(alpha=0.2)(x)\n",
    "            x2 = block(x2, s//2, nf_next)\n",
    "            x = Concatenate(axis=-1)([x, x2])            \n",
    "        x = Activation(\"relu\")(x)\n",
    "        x = Conv2DTranspose(nf_out, kernel_size=(1,4), strides=(1,2), use_bias=not use_batchnorm,\n",
    "                            kernel_initializer = conv_init,          \n",
    "                            name = f'convt.{s}')(x)        \n",
    "        x = Cropping2D(cropping=((0,0),(1,1)))(x)\n",
    "        if use_batchnorm:\n",
    "            x = batchnorm()(x, training=1)\n",
    "        if s <=8:\n",
    "            x = Dropout(0.5)(x, training=1)\n",
    "        return x\n",
    "    \n",
    "    s = isize if fixed_input_size else None\n",
    "\n",
    "    _ = inputs = Input(shape=(1, s, nc_in))        \n",
    "    _ = block(_, isize, nc_in, False, nf_out=nc_out, nf_next=ngf)\n",
    "    _ = Activation('tanh')(_)\n",
    "    return Model(inputs=inputs, outputs=[_])"
   ]
  },
  {
   "cell_type": "code",
   "execution_count": 10,
   "metadata": {
    "scrolled": true
   },
   "outputs": [
    {
     "name": "stdout",
     "output_type": "stream",
     "text": [
      "WARNING:tensorflow:From /home/lab13/.local/lib/python3.6/site-packages/keras/backend/tensorflow_backend.py:74: The name tf.get_default_graph is deprecated. Please use tf.compat.v1.get_default_graph instead.\n",
      "\n",
      "WARNING:tensorflow:From /home/lab13/.local/lib/python3.6/site-packages/keras/backend/tensorflow_backend.py:517: The name tf.placeholder is deprecated. Please use tf.compat.v1.placeholder instead.\n",
      "\n",
      "WARNING:tensorflow:From /home/lab13/.local/lib/python3.6/site-packages/keras/backend/tensorflow_backend.py:4115: The name tf.random_normal is deprecated. Please use tf.random.normal instead.\n",
      "\n",
      "WARNING:tensorflow:From /home/lab13/.local/lib/python3.6/site-packages/keras/backend/tensorflow_backend.py:174: The name tf.get_default_session is deprecated. Please use tf.compat.v1.get_default_session instead.\n",
      "\n",
      "WARNING:tensorflow:From /home/lab13/.local/lib/python3.6/site-packages/keras/backend/tensorflow_backend.py:181: The name tf.ConfigProto is deprecated. Please use tf.compat.v1.ConfigProto instead.\n",
      "\n",
      "WARNING:tensorflow:From /home/lab13/.local/lib/python3.6/site-packages/keras/backend/tensorflow_backend.py:1834: The name tf.nn.fused_batch_norm is deprecated. Please use tf.compat.v1.nn.fused_batch_norm instead.\n",
      "\n",
      "WARNING:tensorflow:From /home/lab13/.local/lib/python3.6/site-packages/keras/backend/tensorflow_backend.py:3445: calling dropout (from tensorflow.python.ops.nn_ops) with keep_prob is deprecated and will be removed in a future version.\n",
      "Instructions for updating:\n",
      "Please use `rate` instead of `keep_prob`. Rate should be set to `rate = 1 - keep_prob`.\n",
      "__________________________________________________________________________________________________\n",
      "Layer (type)                    Output Shape         Param #     Connected to                     \n",
      "==================================================================================================\n",
      "input_1 (InputLayer)            (None, None, None, 3 0                                            \n",
      "__________________________________________________________________________________________________\n",
      "input_2 (InputLayer)            (None, None, None, 3 0                                            \n",
      "__________________________________________________________________________________________________\n",
      "concatenate_1 (Concatenate)     (None, None, None, 6 0           input_1[0][0]                    \n",
      "                                                                 input_2[0][0]                    \n",
      "__________________________________________________________________________________________________\n",
      "First (Conv2D)                  (None, None, None, 1 3200        concatenate_1[0][0]              \n",
      "__________________________________________________________________________________________________\n",
      "leaky_re_lu_1 (LeakyReLU)       (None, None, None, 1 0           First[0][0]                      \n",
      "__________________________________________________________________________________________________\n",
      "pyramid.1 (Conv2D)              (None, None, None, 2 131072      leaky_re_lu_1[0][0]              \n",
      "__________________________________________________________________________________________________\n",
      "batch_normalization_1 (BatchNor (None, None, None, 2 1024        pyramid.1[0][0]                  \n",
      "__________________________________________________________________________________________________\n",
      "leaky_re_lu_2 (LeakyReLU)       (None, None, None, 2 0           batch_normalization_1[0][0]      \n",
      "__________________________________________________________________________________________________\n",
      "pyramid.2 (Conv2D)              (None, None, None, 5 524288      leaky_re_lu_2[0][0]              \n",
      "__________________________________________________________________________________________________\n",
      "batch_normalization_2 (BatchNor (None, None, None, 5 2048        pyramid.2[0][0]                  \n",
      "__________________________________________________________________________________________________\n",
      "leaky_re_lu_3 (LeakyReLU)       (None, None, None, 5 0           batch_normalization_2[0][0]      \n",
      "__________________________________________________________________________________________________\n",
      "zero_padding2d_1 (ZeroPadding2D (None, None, None, 5 0           leaky_re_lu_3[0][0]              \n",
      "__________________________________________________________________________________________________\n",
      "pyramid_last (Conv2D)           (None, None, None, 1 2097152     zero_padding2d_1[0][0]           \n",
      "__________________________________________________________________________________________________\n",
      "batch_normalization_3 (BatchNor (None, None, None, 1 4096        pyramid_last[0][0]               \n",
      "__________________________________________________________________________________________________\n",
      "leaky_re_lu_4 (LeakyReLU)       (None, None, None, 1 0           batch_normalization_3[0][0]      \n",
      "__________________________________________________________________________________________________\n",
      "zero_padding2d_2 (ZeroPadding2D (None, None, None, 1 0           leaky_re_lu_4[0][0]              \n",
      "__________________________________________________________________________________________________\n",
      "final (Conv2D)                  (None, None, None, 1 4097        zero_padding2d_2[0][0]           \n",
      "==================================================================================================\n",
      "Total params: 2,766,977\n",
      "Trainable params: 2,763,393\n",
      "Non-trainable params: 3,584\n",
      "__________________________________________________________________________________________________\n",
      "__________________________________________________________________________________________________\n",
      "Layer (type)                    Output Shape         Param #     Connected to                     \n",
      "==================================================================================================\n",
      "input_3 (InputLayer)            (None, 1, 256, 3)    0                                            \n",
      "__________________________________________________________________________________________________\n",
      "conv_256 (Conv2D)               (None, 1, 128, 128)  1664        input_3[0][0]                    \n",
      "__________________________________________________________________________________________________\n",
      "leaky_re_lu_5 (LeakyReLU)       (None, 1, 128, 128)  0           conv_256[0][0]                   \n",
      "__________________________________________________________________________________________________\n",
      "conv_128 (Conv2D)               (None, 1, 64, 256)   131072      leaky_re_lu_5[0][0]              \n",
      "__________________________________________________________________________________________________\n",
      "batch_normalization_4 (BatchNor (None, 1, 64, 256)   1024        conv_128[0][0]                   \n",
      "__________________________________________________________________________________________________\n",
      "leaky_re_lu_6 (LeakyReLU)       (None, 1, 64, 256)   0           batch_normalization_4[0][0]      \n",
      "__________________________________________________________________________________________________\n",
      "conv_64 (Conv2D)                (None, 1, 32, 512)   524288      leaky_re_lu_6[0][0]              \n",
      "__________________________________________________________________________________________________\n",
      "batch_normalization_5 (BatchNor (None, 1, 32, 512)   2048        conv_64[0][0]                    \n",
      "__________________________________________________________________________________________________\n",
      "leaky_re_lu_7 (LeakyReLU)       (None, 1, 32, 512)   0           batch_normalization_5[0][0]      \n",
      "__________________________________________________________________________________________________\n",
      "conv_32 (Conv2D)                (None, 1, 16, 1024)  2097152     leaky_re_lu_7[0][0]              \n",
      "__________________________________________________________________________________________________\n",
      "batch_normalization_6 (BatchNor (None, 1, 16, 1024)  4096        conv_32[0][0]                    \n",
      "__________________________________________________________________________________________________\n",
      "leaky_re_lu_8 (LeakyReLU)       (None, 1, 16, 1024)  0           batch_normalization_6[0][0]      \n",
      "__________________________________________________________________________________________________\n",
      "conv_16 (Conv2D)                (None, 1, 8, 1024)   4194304     leaky_re_lu_8[0][0]              \n",
      "__________________________________________________________________________________________________\n",
      "batch_normalization_7 (BatchNor (None, 1, 8, 1024)   4096        conv_16[0][0]                    \n",
      "__________________________________________________________________________________________________\n",
      "leaky_re_lu_9 (LeakyReLU)       (None, 1, 8, 1024)   0           batch_normalization_7[0][0]      \n",
      "__________________________________________________________________________________________________\n",
      "conv_8 (Conv2D)                 (None, 1, 4, 1024)   4194304     leaky_re_lu_9[0][0]              \n",
      "__________________________________________________________________________________________________\n",
      "batch_normalization_8 (BatchNor (None, 1, 4, 1024)   4096        conv_8[0][0]                     \n",
      "__________________________________________________________________________________________________\n",
      "leaky_re_lu_10 (LeakyReLU)      (None, 1, 4, 1024)   0           batch_normalization_8[0][0]      \n",
      "__________________________________________________________________________________________________\n",
      "conv_4 (Conv2D)                 (None, 1, 2, 1024)   4194304     leaky_re_lu_10[0][0]             \n",
      "__________________________________________________________________________________________________\n",
      "batch_normalization_9 (BatchNor (None, 1, 2, 1024)   4096        conv_4[0][0]                     \n",
      "__________________________________________________________________________________________________\n",
      "leaky_re_lu_11 (LeakyReLU)      (None, 1, 2, 1024)   0           batch_normalization_9[0][0]      \n",
      "__________________________________________________________________________________________________\n",
      "conv_2 (Conv2D)                 (None, 1, 1, 1024)   4195328     leaky_re_lu_11[0][0]             \n",
      "__________________________________________________________________________________________________\n",
      "activation_1 (Activation)       (None, 1, 1, 1024)   0           conv_2[0][0]                     \n",
      "__________________________________________________________________________________________________\n",
      "convt.2 (Conv2DTranspose)       (None, 1, 4, 1024)   4194304     activation_1[0][0]               \n",
      "__________________________________________________________________________________________________\n",
      "cropping2d_1 (Cropping2D)       (None, 1, 2, 1024)   0           convt.2[0][0]                    \n",
      "__________________________________________________________________________________________________\n",
      "batch_normalization_10 (BatchNo (None, 1, 2, 1024)   4096        cropping2d_1[0][0]               \n",
      "__________________________________________________________________________________________________\n",
      "dropout_1 (Dropout)             (None, 1, 2, 1024)   0           batch_normalization_10[0][0]     \n",
      "__________________________________________________________________________________________________\n",
      "concatenate_2 (Concatenate)     (None, 1, 2, 2048)   0           batch_normalization_9[0][0]      \n",
      "                                                                 dropout_1[0][0]                  \n",
      "__________________________________________________________________________________________________\n",
      "activation_2 (Activation)       (None, 1, 2, 2048)   0           concatenate_2[0][0]              \n",
      "__________________________________________________________________________________________________\n",
      "convt.4 (Conv2DTranspose)       (None, 1, 6, 1024)   8388608     activation_2[0][0]               \n",
      "__________________________________________________________________________________________________\n",
      "cropping2d_2 (Cropping2D)       (None, 1, 4, 1024)   0           convt.4[0][0]                    \n",
      "__________________________________________________________________________________________________\n",
      "batch_normalization_11 (BatchNo (None, 1, 4, 1024)   4096        cropping2d_2[0][0]               \n",
      "__________________________________________________________________________________________________\n",
      "dropout_2 (Dropout)             (None, 1, 4, 1024)   0           batch_normalization_11[0][0]     \n",
      "__________________________________________________________________________________________________\n",
      "concatenate_3 (Concatenate)     (None, 1, 4, 2048)   0           batch_normalization_8[0][0]      \n",
      "                                                                 dropout_2[0][0]                  \n",
      "__________________________________________________________________________________________________\n",
      "activation_3 (Activation)       (None, 1, 4, 2048)   0           concatenate_3[0][0]              \n",
      "__________________________________________________________________________________________________\n",
      "convt.8 (Conv2DTranspose)       (None, 1, 10, 1024)  8388608     activation_3[0][0]               \n",
      "__________________________________________________________________________________________________\n",
      "cropping2d_3 (Cropping2D)       (None, 1, 8, 1024)   0           convt.8[0][0]                    \n",
      "__________________________________________________________________________________________________\n",
      "batch_normalization_12 (BatchNo (None, 1, 8, 1024)   4096        cropping2d_3[0][0]               \n",
      "__________________________________________________________________________________________________\n",
      "dropout_3 (Dropout)             (None, 1, 8, 1024)   0           batch_normalization_12[0][0]     \n",
      "__________________________________________________________________________________________________\n",
      "concatenate_4 (Concatenate)     (None, 1, 8, 2048)   0           batch_normalization_7[0][0]      \n",
      "                                                                 dropout_3[0][0]                  \n",
      "__________________________________________________________________________________________________\n",
      "activation_4 (Activation)       (None, 1, 8, 2048)   0           concatenate_4[0][0]              \n",
      "__________________________________________________________________________________________________\n",
      "convt.16 (Conv2DTranspose)      (None, 1, 18, 1024)  8388608     activation_4[0][0]               \n",
      "__________________________________________________________________________________________________\n",
      "cropping2d_4 (Cropping2D)       (None, 1, 16, 1024)  0           convt.16[0][0]                   \n",
      "__________________________________________________________________________________________________\n",
      "batch_normalization_13 (BatchNo (None, 1, 16, 1024)  4096        cropping2d_4[0][0]               \n",
      "__________________________________________________________________________________________________\n",
      "concatenate_5 (Concatenate)     (None, 1, 16, 2048)  0           batch_normalization_6[0][0]      \n",
      "                                                                 batch_normalization_13[0][0]     \n",
      "__________________________________________________________________________________________________\n",
      "activation_5 (Activation)       (None, 1, 16, 2048)  0           concatenate_5[0][0]              \n",
      "__________________________________________________________________________________________________\n",
      "convt.32 (Conv2DTranspose)      (None, 1, 34, 512)   4194304     activation_5[0][0]               \n",
      "__________________________________________________________________________________________________\n",
      "cropping2d_5 (Cropping2D)       (None, 1, 32, 512)   0           convt.32[0][0]                   \n",
      "__________________________________________________________________________________________________\n",
      "batch_normalization_14 (BatchNo (None, 1, 32, 512)   2048        cropping2d_5[0][0]               \n",
      "__________________________________________________________________________________________________\n",
      "concatenate_6 (Concatenate)     (None, 1, 32, 1024)  0           batch_normalization_5[0][0]      \n",
      "                                                                 batch_normalization_14[0][0]     \n",
      "__________________________________________________________________________________________________\n",
      "activation_6 (Activation)       (None, 1, 32, 1024)  0           concatenate_6[0][0]              \n",
      "__________________________________________________________________________________________________\n",
      "convt.64 (Conv2DTranspose)      (None, 1, 66, 256)   1048576     activation_6[0][0]               \n",
      "__________________________________________________________________________________________________\n",
      "cropping2d_6 (Cropping2D)       (None, 1, 64, 256)   0           convt.64[0][0]                   \n",
      "__________________________________________________________________________________________________\n",
      "batch_normalization_15 (BatchNo (None, 1, 64, 256)   1024        cropping2d_6[0][0]               \n",
      "__________________________________________________________________________________________________\n",
      "concatenate_7 (Concatenate)     (None, 1, 64, 512)   0           batch_normalization_4[0][0]      \n",
      "                                                                 batch_normalization_15[0][0]     \n",
      "__________________________________________________________________________________________________\n",
      "activation_7 (Activation)       (None, 1, 64, 512)   0           concatenate_7[0][0]              \n",
      "__________________________________________________________________________________________________\n",
      "convt.128 (Conv2DTranspose)     (None, 1, 130, 128)  262144      activation_7[0][0]               \n",
      "__________________________________________________________________________________________________\n",
      "cropping2d_7 (Cropping2D)       (None, 1, 128, 128)  0           convt.128[0][0]                  \n",
      "__________________________________________________________________________________________________\n",
      "batch_normalization_16 (BatchNo (None, 1, 128, 128)  512         cropping2d_7[0][0]               \n",
      "__________________________________________________________________________________________________\n",
      "concatenate_8 (Concatenate)     (None, 1, 128, 256)  0           conv_256[0][0]                   \n",
      "                                                                 batch_normalization_16[0][0]     \n",
      "__________________________________________________________________________________________________\n",
      "activation_8 (Activation)       (None, 1, 128, 256)  0           concatenate_8[0][0]              \n",
      "__________________________________________________________________________________________________\n",
      "convt.256 (Conv2DTranspose)     (None, 1, 258, 3)    3075        activation_8[0][0]               \n",
      "__________________________________________________________________________________________________\n",
      "cropping2d_8 (Cropping2D)       (None, 1, 256, 3)    0           convt.256[0][0]                  \n",
      "__________________________________________________________________________________________________\n",
      "activation_9 (Activation)       (None, 1, 256, 3)    0           cropping2d_8[0][0]               \n",
      "==================================================================================================\n",
      "Total params: 54,440,067\n",
      "Trainable params: 54,420,355\n",
      "Non-trainable params: 19,712\n",
      "__________________________________________________________________________________________________\n"
     ]
    }
   ],
   "source": [
    "nc_in = 3\n",
    "nc_out = 3\n",
    "ndf = 128\n",
    "imageSize = 256\n",
    "ngf = 128\n",
    "\n",
    "netD = BASIC_D(nc_in, nc_out, ndf)\n",
    "netG = UNET_G(imageSize, nc_in, nc_out, ngf)\n",
    "\n",
    "netD.summary()\n",
    "netG.summary()"
   ]
  },
  {
   "cell_type": "code",
   "execution_count": 11,
   "metadata": {},
   "outputs": [],
   "source": [
    "real_A = netG.input\n",
    "fake_B = netG.output\n",
    "netG_generate = K.function([real_A], [fake_B])\n",
    "real_B = netD.inputs[1]\n",
    "output_D_real = netD([real_A, real_B])\n",
    "output_D_fake = netD([real_A, fake_B])"
   ]
  },
  {
   "cell_type": "code",
   "execution_count": 12,
   "metadata": {},
   "outputs": [],
   "source": [
    "loss_fn = lambda output, target : -K.mean(K.log(output+1e-12)*target+K.log(1-output+1e-12)*(1-target))\n",
    "\n",
    "loss_D_real = loss_fn(output_D_real, K.ones_like(output_D_real))\n",
    "loss_D_fake = loss_fn(output_D_fake, K.zeros_like(output_D_fake))\n",
    "loss_G_fake = loss_fn(output_D_fake, K.ones_like(output_D_fake))\n",
    "\n",
    "loss_L1 = K.mean(K.abs(fake_B-real_B))"
   ]
  },
  {
   "cell_type": "code",
   "execution_count": 13,
   "metadata": {},
   "outputs": [],
   "source": [
    "lrD = 2e-4\n",
    "lrG = 2e-4\n",
    "\n",
    "\n",
    "loss_D = loss_D_real +loss_D_fake\n",
    "training_updates = Adam(lr=lrD, beta_1=0.5).get_updates(netD.trainable_weights,[],loss_D)\n",
    "netD_train = K.function([real_A, real_B], [loss_D/2], training_updates)\n",
    "\n",
    "loss_G = loss_G_fake   + 100 * loss_L1\n",
    "training_updates = Adam(lr=lrG, beta_1=0.5).get_updates(netG.trainable_weights,[], loss_G)\n",
    "netG_train = K.function([real_A, real_B], [loss_G_fake, loss_L1], training_updates)"
   ]
  },
  {
   "cell_type": "markdown",
   "metadata": {},
   "source": [
    "# Data reading function, generator for training \n",
    "During the generation process, the original color scheme is used as the label. I will also randomly paint a few areas of the five color areas as input for training."
   ]
  },
  {
   "cell_type": "code",
   "execution_count": 14,
   "metadata": {},
   "outputs": [],
   "source": [
    "def load_data(dataPath):\n",
    "    dataAB = []\n",
    "    for root,dirs,files in os.walk(dataPath):\n",
    "        for f in files:\n",
    "            if f.endswith('png'):\n",
    "                dataAB.append(os.path.join(root,f))\n",
    "    random.shuffle(dataAB)\n",
    "    \n",
    "    return dataAB[:int(len(dataAB)*0.85)], dataAB[int(len(dataAB)*0.85):]\n",
    "\n",
    "\n",
    "def read_image(img_name):\n",
    "    im = Image.open(img_name)\n",
    "    im_fake = im.copy()\n",
    "    draw_fake = ImageDraw.Draw(im_fake)\n",
    "    batch = int(im.size[0] / 10)\n",
    "    nb = random.randint(1,9)\n",
    "    index = random.sample([k for k in range(10)],nb)\n",
    "\n",
    "    for j in range(10):\n",
    "        if j in index:\n",
    "            if j != 9:\n",
    "                draw_fake.rectangle((j*batch,0,(j+1)*batch,1),fill=(0,0,0))\n",
    "            else:\n",
    "                draw_fake.rectangle((j*batch,0,im.size[0],1),fill=(0,0,0))\n",
    "\n",
    "    imgB = im\n",
    "    imgA = im_fake\n",
    "    \n",
    "    outA = np.array(imgA.resize((256,1))) / 255 * 2 - 1\n",
    "    outB = np.array(imgB.resize((256,1))) / 255 * 2 - 1\n",
    "    return outA, outB"
   ]
  },
  {
   "cell_type": "code",
   "execution_count": 15,
   "metadata": {},
   "outputs": [],
   "source": [
    "def minibatch(dataAB, batchsize, direction=0):\n",
    "    length = len(dataAB) * 10\n",
    "    epoch = i = 0\n",
    "    tmpsize = None    \n",
    "    while True:\n",
    "        size = tmpsize if tmpsize else batchsize\n",
    "        if i+size > length:\n",
    "            random.shuffle(dataAB)\n",
    "            i = 0\n",
    "            epoch+=1        \n",
    "        dataA = []\n",
    "        dataB = []\n",
    "        for j in range(i,i+size):\n",
    "            imgA,imgB = read_image(dataAB[int(j % len(dataAB))])\n",
    "            print(dataAB[j])            \n",
    "            dataA.append(imgA)\n",
    "            dataB.append(imgB)\n",
    "        dataA = np.float32(dataA)\n",
    "        dataB = np.float32(dataB)\n",
    "        i+=size\n",
    "        tmpsize = yield epoch, dataA, dataB  "
   ]
  },
  {
   "cell_type": "code",
   "execution_count": 16,
   "metadata": {},
   "outputs": [],
   "source": [
    "def showX(X, epoch=0, rows=3, savefig=True):\n",
    "    plt.figure(figsize=(10,5))\n",
    "    X = np.concatenate(X,1)\n",
    "    for i in range(rows):\n",
    "        plt.subplot(2,3,i+1)\n",
    "        plt.imshow(np.array(Image.fromarray(((X[i]+1)/2*255).clip(0,255).astype('uint8')).resize((512,100))))\n",
    "    \n",
    "    if savefig:\n",
    "        if not os.path.exists('results/'):\n",
    "            os.makedirs('results/')\n",
    "        plt.savefig(f'results/epoch_{epoch}.png')\n",
    "    \n",
    "    plt.show()"
   ]
  },
  {
   "cell_type": "markdown",
   "metadata": {},
   "source": [
    "# Visualization of training "
   ]
  },
  {
   "cell_type": "code",
   "execution_count": 25,
   "metadata": {},
   "outputs": [
    {
     "data": {
      "image/png": "[encoded data removed]",
      "text/plain": [
       "<Figure size 720x360 with 3 Axes>"
      ]
     },
     "metadata": {
      "needs_background": "light"
     },
     "output_type": "display_data"
    }
   ],
   "source": [
    "trainAB, valAB = load_data('./json_palettes/fashion4perfection/')\n",
    "\n",
    "train_batch = minibatch(trainAB, 6)\n",
    "_, trainA, trainB = next(train_batch)\n",
    "showX([trainA,trainB], savefig=False\n",
    "_,a,b = train_batch.send(6)\n",
    "\n",
    "del train_batch, trainA, trainB"
   ]
  },
  {
   "cell_type": "markdown",
   "metadata": {},
   "source": [
    "# Training \n",
    "During the training process, if the training is performed in the order of a generator and a discriminator, the result will be very poor, and the generation result is very bad, so the actual training one iteration took 3 times to generate a discriminant."
   ]
  },
  {
   "cell_type": "code",
   "execution_count": 22,
   "metadata": {},
   "outputs": [],
   "source": [
    "def netG_gen(A):\n",
    "    return np.concatenate([netG_generate([A[i:i+1]])[0] for i in range(A.shape[0])], axis=0)"
   ]
  },
  {
   "cell_type": "code",
   "execution_count": 23,
   "metadata": {
    "scrolled": true
   },
   "outputs": [],
   "source": [
    "# os.environ[\"CUDA_VISIBLE_DEVICES\"] = '1'\n",
    "\n",
    "batchSize = 1\n",
    "niter = 3\n",
    "display_iters = 2000\n",
    "\n",
    "gen_iterations = 0\n",
    "errL1 = epoch = errG = 0\n",
    "errL1_sum = errG_sum = errD_sum = 0\n",
    "\n",
    "train_batch = minibatch(trainAB, batchSize)\n",
    "val_batch = minibatch(valAB, 6)\n",
    "current_iter = 0\n",
    "\n",
    "while epoch < niter: \n",
    "    epoch, trainA, trainB = next(train_batch)        \n",
    "    errD,  = netD_train([trainA, trainB])\n",
    "    errD_sum += errD\n",
    "    \n",
    "    errG, errL1 = netG_train([trainA, trainB])\n",
    "    errG_sum += errG\n",
    "    errL1_sum += errL1\n",
    "    \n",
    "    for i in range(3):        \n",
    "        _, trainA1, trainB1 = next(train_batch)\n",
    "        errG, errL1 = netG_train([trainA1, trainB1])\n",
    "        errG_sum += errG\n",
    "        errL1_sum += errL1\n",
    "    \n",
    "    gen_iterations += 1\n",
    "    if gen_iterations % display_iters == 0:\n",
    "        if gen_iterations % (5*display_iters) == 0:\n",
    "            clear_output()\n",
    "        print(f'[{epoch}/{niter}][{gen_iterations}] Loss_D: {errD_sum/display_iters} ' + \n",
    "              f'Loss_G: {errG_sum/(display_iters*4)} loss_L1: {errL1_sum/(display_iters*4)}')\n",
    "        \n",
    "        _, valA, valB = train_batch.send(6) \n",
    "        fakeB = netG_gen(valA)\n",
    "        showX([valA, valB, fakeB], gen_iterations)\n",
    "        \n",
    "        errL1_sum = errG_sum = errD_sum = 0\n",
    "        _, valA, valB = next(val_batch)\n",
    "        fakeB = netG_gen(valA)\n",
    "        showX([valA, valB, fakeB], gen_iterations)\n",
    "        \n",
    "    if epoch > current_iter:\n",
    "        current_iter += 1\n",
    "        \n",
    "#         if not os.path.exists('weights/100L1_128channel_4gen/generator/'):\n",
    "#             os.makedirs('weights/100L1_128channel_4gen/generator/')\n",
    "#         if not os.path.exists('weights/100L1_128channel_4gen/discriminator/'):\n",
    "#             os.makedirs('weights/100L1_128channel_4gen/discriminator/')\n",
    "        \n",
    "        netG.save(f'./weights/100L1_128channel_4gen/generator/epoch_{epoch}.hdf5')\n",
    "        netD.save(f'./weights/100L1_128channel_4gen/discriminator/epoch_{epoch}.hdf5')"
   ]
  },
  {
   "cell_type": "markdown",
   "metadata": {},
   "source": [
    "# Test"
   ]
  },
  {
   "cell_type": "code",
   "execution_count": 26,
   "metadata": {
    "scrolled": true
   },
   "outputs": [
    {
     "name": "stderr",
     "output_type": "stream",
     "text": [
      "/home/lab13/.local/lib/python3.6/site-packages/keras/engine/saving.py:292: UserWarning: No training configuration found in save file: the model was *not* compiled. Compile it manually.\n",
      "  warnings.warn('No training configuration found in save file: '\n"
     ]
    }
   ],
   "source": [
    "# Here I trained three models based on different parameters, used here as appropriate\n",
    "# generator = load_model('weights/GAN/100L1_128channel_peisenet/generator/epoch_2.hdf5')\n",
    "# generator1 = load_model('weights/GAN/100L1_128channel_4gen/generator/epoch_10.hdf5')\n",
    "# generator2 = load_model('weights/GAN/1000L1_256channel/generator/epoch_10.hdf5')\n",
    "\n",
    "generator = load_model('weights/100L1_128channel_4gen/generator/epoch_1.hdf5')\n",
    "generator1 = load_model('weights/100L1_128channel_4gen/generator/epoch_2.hdf5')\n",
    "generator2 = load_model('weights/100L1_128channel_4gen/generator/epoch_3.hdf5')"
   ]
  },
  {
   "cell_type": "code",
   "execution_count": 27,
   "metadata": {},
   "outputs": [],
   "source": [
    "for layer in generator.layers:\n",
    "    layer.trainable = False"
   ]
  },
  {
   "cell_type": "code",
   "execution_count": 28,
   "metadata": {
    "scrolled": false
   },
   "outputs": [
    {
     "name": "stdout",
     "output_type": "stream",
     "text": [
      "Processing 0 ... \n"
     ]
    },
    {
     "data": {
      "image/png": "[encoded data removed]",
      "text/plain": [
       "<Figure size 1080x1080 with 5 Axes>"
      ]
     },
     "metadata": {
      "needs_background": "light"
     },
     "output_type": "display_data"
    },
    {
     "data": {
      "image/png": "[encoded data removed]",
      "text/plain": [
       "<Figure size 1080x1080 with 5 Axes>"
      ]
     },
     "metadata": {
      "needs_background": "light"
     },
     "output_type": "display_data"
    },
    {
     "data": {
      "image/png": "[encoded data removed]",
      "text/plain": [
       "<Figure size 1080x1080 with 5 Axes>"
      ]
     },
     "metadata": {
      "needs_background": "light"
     },
     "output_type": "display_data"
    },
    {
     "name": "stdout",
     "output_type": "stream",
     "text": [
      "Processing 1 ... \n"
     ]
    },
    {
     "data": {
      "image/png": "[encoded data removed]",
      "text/plain": [
       "<Figure size 1080x1080 with 5 Axes>"
      ]
     },
     "metadata": {
      "needs_background": "light"
     },
     "output_type": "display_data"
    },
    {
     "data": {
      "image/png": "[encoded data removed]",
      "text/plain": [
       "<Figure size 1080x1080 with 5 Axes>"
      ]
     },
     "metadata": {
      "needs_background": "light"
     },
     "output_type": "display_data"
    },
    {
     "data": {
      "image/png": "[encoded data removed]",
      "text/plain": [
       "<Figure size 1080x1080 with 5 Axes>"
      ]
     },
     "metadata": {
      "needs_background": "light"
     },
     "output_type": "display_data"
    },
    {
     "name": "stdout",
     "output_type": "stream",
     "text": [
      "Processing 2 ... \n"
     ]
    },
    {
     "data": {
      "image/png": "[encoded data removed]",
      "text/plain": [
       "<Figure size 1080x1080 with 5 Axes>"
      ]
     },
     "metadata": {
      "needs_background": "light"
     },
     "output_type": "display_data"
    },
    {
     "data": {
      "image/png": "[encoded data removed]",
      "text/plain": [
       "<Figure size 1080x1080 with 5 Axes>"
      ]
     },
     "metadata": {
      "needs_background": "light"
     },
     "output_type": "display_data"
    },
    {
     "data": {
      "image/png": "[encoded data removed]",
      "text/plain": [
       "<Figure size 1080x1080 with 5 Axes>"
      ]
     },
     "metadata": {
      "needs_background": "light"
     },
     "output_type": "display_data"
    },
    {
     "name": "stdout",
     "output_type": "stream",
     "text": [
      "Processing 3 ... \n"
     ]
    },
    {
     "data": {
      "image/png": "[encoded data removed]",
      "text/plain": [
       "<Figure size 1080x1080 with 5 Axes>"
      ]
     },
     "metadata": {
      "needs_background": "light"
     },
     "output_type": "display_data"
    },
    {
     "data": {
      "image/png": "[encoded data removed]",
      "text/plain": [
       "<Figure size 1080x1080 with 5 Axes>"
      ]
     },
     "metadata": {
      "needs_background": "light"
     },
     "output_type": "display_data"
    },
    {
     "data": {
      "image/png": "[encoded data removed]",
      "text/plain": [
       "<Figure size 1080x1080 with 5 Axes>"
      ]
     },
     "metadata": {
      "needs_background": "light"
     },
     "output_type": "display_data"
    },
    {
     "name": "stdout",
     "output_type": "stream",
     "text": [
      "Processing 4 ... \n"
     ]
    },
    {
     "data": {
      "image/png": "[encoded data removed]",
      "text/plain": [
       "<Figure size 1080x1080 with 5 Axes>"
      ]
     },
     "metadata": {
      "needs_background": "light"
     },
     "output_type": "display_data"
    },
    {
     "data": {
      "image/png": "[encoded data removed]",
      "text/plain": [
       "<Figure size 1080x1080 with 5 Axes>"
      ]
     },
     "metadata": {
      "needs_background": "light"
     },
     "output_type": "display_data"
    },
    {
     "data": {
      "image/png": "[encoded data removed]",
      "text/plain": [
       "<Figure size 1080x1080 with 5 Axes>"
      ]
     },
     "metadata": {
      "needs_background": "light"
     },
     "output_type": "display_data"
    },
    {
     "name": "stdout",
     "output_type": "stream",
     "text": [
      "Processing 5 ... \n"
     ]
    },
    {
     "data": {
      "image/png": "[encoded data removed]",
      "text/plain": [
       "<Figure size 1080x1080 with 5 Axes>"
      ]
     },
     "metadata": {
      "needs_background": "light"
     },
     "output_type": "display_data"
    },
    {
     "data": {
      "image/png": "[encoded data removed]",
      "text/plain": [
       "<Figure size 1080x1080 with 5 Axes>"
      ]
     },
     "metadata": {
      "needs_background": "light"
     },
     "output_type": "display_data"
    },
    {
     "data": {
      "image/png": "[encoded data removed]",
      "text/plain": [
       "<Figure size 1080x1080 with 5 Axes>"
      ]
     },
     "metadata": {
      "needs_background": "light"
     },
     "output_type": "display_data"
    },
    {
     "name": "stdout",
     "output_type": "stream",
     "text": [
      "Processing 6 ... \n"
     ]
    },
    {
     "data": {
      "image/png": "[encoded data removed]",
      "text/plain": [
       "<Figure size 1080x1080 with 5 Axes>"
      ]
     },
     "metadata": {
      "needs_background": "light"
     },
     "output_type": "display_data"
    },
    {
     "data": {
      "image/png": "[encoded data removed]",
      "text/plain": [
       "<Figure size 1080x1080 with 5 Axes>"
      ]
     },
     "metadata": {
      "needs_background": "light"
     },
     "output_type": "display_data"
    },
    {
     "data": {
      "image/png": "[encoded data removed]",
      "text/plain": [
       "<Figure size 1080x1080 with 5 Axes>"
      ]
     },
     "metadata": {
      "needs_background": "light"
     },
     "output_type": "display_data"
    },
    {
     "name": "stdout",
     "output_type": "stream",
     "text": [
      "Processing 7 ... \n"
     ]
    },
    {
     "data": {
      "image/png": "[encoded data removed]",
      "text/plain": [
       "<Figure size 1080x1080 with 5 Axes>"
      ]
     },
     "metadata": {
      "needs_background": "light"
     },
     "output_type": "display_data"
    },
    {
     "data": {
      "image/png": "[encoded data removed]",
      "text/plain": [
       "<Figure size 1080x1080 with 5 Axes>"
      ]
     },
     "metadata": {
      "needs_background": "light"
     },
     "output_type": "display_data"
    },
    {
     "data": {
      "image/png": "[encoded data removed]",
      "text/plain": [
       "<Figure size 1080x1080 with 5 Axes>"
      ]
     },
     "metadata": {
      "needs_background": "light"
     },
     "output_type": "display_data"
    },
    {
     "name": "stdout",
     "output_type": "stream",
     "text": [
      "Processing 8 ... \n"
     ]
    },
    {
     "data": {
      "image/png": "[encoded data removed]",
      "text/plain": [
       "<Figure size 1080x1080 with 5 Axes>"
      ]
     },
     "metadata": {
      "needs_background": "light"
     },
     "output_type": "display_data"
    },
    {
     "data": {
      "image/png": "[encoded data removed]",
      "text/plain": [
       "<Figure size 1080x1080 with 5 Axes>"
      ]
     },
     "metadata": {
      "needs_background": "light"
     },
     "output_type": "display_data"
    },
    {
     "data": {
      "image/png": "[encoded data removed]",
      "text/plain": [
       "<Figure size 1080x1080 with 5 Axes>"
      ]
     },
     "metadata": {
      "needs_background": "light"
     },
     "output_type": "display_data"
    },
    {
     "name": "stdout",
     "output_type": "stream",
     "text": [
      "Processing 9 ... \n"
     ]
    },
    {
     "data": {
      "image/png": "[encoded data removed]",
      "text/plain": [
       "<Figure size 1080x1080 with 5 Axes>"
      ]
     },
     "metadata": {
      "needs_background": "light"
     },
     "output_type": "display_data"
    },
    {
     "data": {
      "image/png": "[encoded data removed]",
      "text/plain": [
       "<Figure size 1080x1080 with 5 Axes>"
      ]
     },
     "metadata": {
      "needs_background": "light"
     },
     "output_type": "display_data"
    },
    {
     "data": {
      "image/png": "[encoded data removed]",
      "text/plain": [
       "<Figure size 1080x1080 with 5 Axes>"
      ]
     },
     "metadata": {
      "needs_background": "light"
     },
     "output_type": "display_data"
    }
   ],
   "source": [
    "random.shuffle(colors)\n",
    "# color = colors[100]\n",
    "\n",
    "for i,color in enumerate(colors[:10]):\n",
    "    print(f'Processing {i} ... ')\n",
    "\n",
    "    # color = [(212,123,80) for _ in range(8)]\n",
    "    batch = int(256 / 10)\n",
    "    for _ in range(3):\n",
    "        img = Image.new(\"RGB\",(256,1),(0,0,0))\n",
    "        im = np.array(img)\n",
    "        im_fake = np.array(img)\n",
    "        nb = random.randint(1,9)\n",
    "        index = random.sample([k for k in range(10)],nb)\n",
    "        for j, c in enumerate(color):\n",
    "            if j not in index:\n",
    "                if j == len(color)-1:\n",
    "                    im_fake[:,j*batch:,:] = c\n",
    "                else:\n",
    "                    im_fake[:,j*batch:(j+1)*batch,:] = c\n",
    "\n",
    "            if j == len(color)-1:\n",
    "                im[:,j*batch:,:] = c\n",
    "            else:\n",
    "                im[:,j*batch:(j+1)*batch,:] = c\n",
    "\n",
    "\n",
    "        plt.figure(figsize=(15,15))\n",
    "\n",
    "        plt.subplot(1,5,1)\n",
    "        plt.imshow(np.array(Image.fromarray(im).resize((512,80))))\n",
    "        plt.axis('off')\n",
    "\n",
    "        plt.subplot(1,5,2)\n",
    "        plt.imshow(np.array(Image.fromarray(im_fake).resize((512,80))))\n",
    "        plt.axis('off')\n",
    "\n",
    "        result = generator.predict(np.expand_dims(im_fake / 255 * 2 - 1,0))[0]\n",
    "        result1 = generator1.predict(np.expand_dims(im_fake / 255 * 2 - 1,0))[0]\n",
    "        result2 = generator2.predict(np.expand_dims(im_fake / 255 * 2 - 1,0))[0]\n",
    "        \n",
    "        for i in range(10):\n",
    "            result[:,i*batch:(i+1)*batch,:] = np.mean(result[:,i*batch:(i+1)*batch,:],1)[0]\n",
    "            result1[:,i*batch:(i+1)*batch,:] = np.mean(result1[:,i*batch:(i+1)*batch,:],1)[0]\n",
    "            result2[:,i*batch:(i+1)*batch,:] = np.mean(result2[:,i*batch:(i+1)*batch,:],1)[0]\n",
    "            \n",
    "        plt.subplot(1,5,3)\n",
    "        res = np.array(Image.fromarray(((result+1)/2*255).clip(0,255).astype('uint8')).resize((512,80)))\n",
    "        plt.imshow(res)\n",
    "        plt.axis('off')\n",
    "\n",
    "        plt.subplot(1,5,4)\n",
    "        res1 = np.array(Image.fromarray(((result1+1)/2*255).clip(0,255).astype('uint8')).resize((512,80)))\n",
    "        plt.imshow(res1)\n",
    "        plt.axis('off')\n",
    "\n",
    "        plt.subplot(1,5,5)\n",
    "        res2 = np.array(Image.fromarray(((result2+1)/2*255).clip(0,255).astype('uint8')).resize((512,80)))\n",
    "        plt.imshow(res2)\n",
    "        plt.axis('off')\n",
    "    \n",
    "    plt.show()"
   ]
  },
  {
   "cell_type": "code",
   "execution_count": null,
   "metadata": {},
   "outputs": [],
   "source": []
  }
 ],
 "metadata": {
  "kernelspec": {
   "display_name": "Python 3",
   "language": "python",
   "name": "python3"
  },
  "language_info": {
   "codemirror_mode": {
    "name": "ipython",
    "version": 3
   },
   "file_extension": ".py",
   "mimetype": "text/x-python",
   "name": "python",
   "nbconvert_exporter": "python",
   "pygments_lexer": "ipython3",
   "version": "3.6.10"
  }
 },
 "nbformat": 4,
 "nbformat_minor": 2
}
